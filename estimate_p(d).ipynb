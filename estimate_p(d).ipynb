{
 "cells": [
  {
   "cell_type": "code",
   "execution_count": 19,
   "metadata": {},
   "outputs": [],
   "source": [
    "import numpy as np\n",
    "import pandas as pd\n",
    "import pickle\n",
    "import matplotlib.pyplot as plt"
   ]
  },
  {
   "cell_type": "code",
   "execution_count": 20,
   "metadata": {},
   "outputs": [],
   "source": [
    "top30ins = pd.read_hdf('data/top30ins_geo.h5')\n",
    "top20ins = pd.read_hdf('data/top20ins_geo.h5')\n",
    "top20countries = top20ins['country_code'].unique()"
   ]
  },
  {
   "cell_type": "code",
   "execution_count": 21,
   "metadata": {},
   "outputs": [],
   "source": [
    "def get_level_distance(ins_1, ins_2):\n",
    "    row_1 = top30ins.loc[ins_1]\n",
    "    row_2 = top30ins.loc[ins_2]\n",
    "    # Considering many countries have cities with the same name, the level distance should be judged from top to bottom.\n",
    "    if(row_1['continent_id'] != row_2['continent_id']):\n",
    "        return 3 # Intercontinental movement\n",
    "    elif(row_1['country_id'] != row_2['country_id']):\n",
    "        return 2 # Movement between different countries within the same continent\n",
    "    elif(row_1['city_id'] != row_2['city_id']):\n",
    "        return 1 # Movement between different cities within the same country\n",
    "    else: return 0 # Movement within the same city\n"
   ]
  },
  {
   "cell_type": "code",
   "execution_count": 22,
   "metadata": {},
   "outputs": [],
   "source": [
    "## get the power of p_i\n",
    "def get_n(ins_geo, all_geo, flow_mat):\n",
    "    n = [0,0,0,0]\n",
    "    for i in ins_geo.index:\n",
    "        for k in all_geo.index:\n",
    "            flow = flow_mat[i,k]\n",
    "            if(flow != 0):\n",
    "                d = get_level_distance(i, k)\n",
    "                n[d] += flow\n",
    "    return n"
   ]
  },
  {
   "cell_type": "code",
   "execution_count": 23,
   "metadata": {},
   "outputs": [],
   "source": [
    "def estimate_by_time(flow_mat, ins_geo, all_geo):\n",
    "    n = get_n(ins_geo, all_geo, flow_mat)\n",
    "    if sum(n) == 0:\n",
    "        return [0,0,0,0]\n",
    "    return [n[i]/sum(n) for i in range(4)]"
   ]
  },
  {
   "cell_type": "code",
   "execution_count": 24,
   "metadata": {},
   "outputs": [],
   "source": [
    "def estimate(all_geo, top20ins, country):\n",
    "    '''\n",
    "    all_geo: Institutions with valid geographic information from the top 30 countries.\n",
    "    top20ins: Institutions with valid geographic information from the top 20 countries and top 10 cities.\n",
    "    country: Current country.\n",
    "    goal: Probability of level distance from any institution with valid geographic information in the current country to the top 20 countries and top 10 cities.\n",
    "    '''\n",
    "    \n",
    "    # ins_geo = preprocess(ins_geo)\n",
    "    \n",
    "    country_ins = all_geo[all_geo['country_code'] == country] # All institutions in the current country\n",
    "\n",
    "    # Assigning IDs to all cities, countries, and continents in top20ins\n",
    "    top20ins = top20ins[['city', 'country_code', 'continent_code']]\n",
    "    countries = list(set(top20ins['country_code']))\n",
    "    top20ins.loc[:, 'country_id'] = top20ins['country_code'].apply(lambda x: countries.index(x))\n",
    "    continents = list(set(top20ins['continent_code']))\n",
    "    top20ins.loc[:, 'continent_id'] = top20ins['continent_code'].apply(lambda x: continents.index(x))\n",
    "    cities = list(set(top20ins['city']))\n",
    "    top20ins.loc[:, 'city_id'] = top20ins['city'].apply(lambda x: cities.index(x))\n",
    "    top20ins = top20ins[['city_id', 'country_id', 'continent_id']]\n",
    "    \n",
    "    \n",
    "    results = []\n",
    "    for year in range(1960, 2011, 5):\n",
    "        f_read = open('data/flow_matrices/flow_matrix[%d-%d].pkl' %(year, year+4), 'rb')\n",
    "        this_mat = pickle.load(f_read)\n",
    "        f_read.close()\n",
    "        this_mat = this_mat.A\n",
    "        results.append(estimate_by_time(this_mat, country_ins, top20ins))\n",
    "    f_read = open('data/flow_matrices/flow_matrix[%d-%d].pkl' %(2015, 2021), 'rb')\n",
    "    this_mat = pickle.load(f_read)\n",
    "    f_read.close()\n",
    "    this_mat = this_mat.A\n",
    "    results.append(estimate_by_time(this_mat, country_ins, top20ins))\n",
    "    \n",
    "    return np.array(results)\n"
   ]
  },
  {
   "cell_type": "code",
   "execution_count": 25,
   "metadata": {},
   "outputs": [],
   "source": [
    "import warnings\n",
    "year_index = []\n",
    "for year in range(1960, 2011, 5):\n",
    "    year_index.append(\"%d-%d\"%(year, year+4))\n",
    "year_index.append(\"2015-2021\")\n",
    "\n",
    "with warnings.catch_warnings():\n",
    "    warnings.simplefilter('ignore')\n",
    "    writer = pd.ExcelWriter('data/level_distance.xlsx', engine='xlsxwriter')\n",
    "    for country in top20countries:\n",
    "        results = estimate(top30ins, top20ins, country)\n",
    "        results_df = pd.DataFrame(results, \n",
    "                                  columns=['P(d = 0)', 'P(d = 1)', 'P(d = 2)', 'P(d = 3)'], \n",
    "                                  index=year_index)\n",
    "        results_df.to_excel(writer, sheet_name=country)\n",
    "    writer.close()"
   ]
  },
  {
   "cell_type": "code",
   "execution_count": 26,
   "metadata": {},
   "outputs": [],
   "source": [
    "def draw(results, country):\n",
    "    %matplotlib inline\n",
    "\n",
    "    x = range(1960, 2016, 5)\n",
    "\n",
    "    p_0 = results[:, 0]\n",
    "    p_1 = results[:, 1]\n",
    "    p_2 = results[:, 2]\n",
    "    p_3 = results[:, 3]\n",
    "\n",
    "    plt.figure(figsize=(16,9))\n",
    "    plt.plot(x, p_0, 'o-', color='r', label=\"P{d = 0}\")\n",
    "    plt.plot(x, p_1, 'p-', color='b', label=\"P{d = 1}\")\n",
    "    plt.plot(x, p_2, '*-', color='g', label=\"P{d = 2}\")\n",
    "    plt.plot(x, p_3, 's-', color='y', label='P{d = 3}')\n",
    "\n",
    "    plt.title(country)\n",
    "    plt.xlabel(\"time\")\n",
    "    plt.ylabel(\"prob\")\n",
    "    plt.legend(loc=\"best\")\n",
    "\n",
    "    plt.show()"
   ]
  },
  {
   "cell_type": "code",
   "execution_count": 27,
   "metadata": {},
   "outputs": [],
   "source": [
    "# with warnings.catch_warnings():\n",
    "#     warnings.simplefilter('ignore')\n",
    "#     for country in ['US', 'CN', 'IN', 'JP', 'GB', 'FR', 'DE', 'BR', 'RU', 'ES', 'KR', 'CA',\n",
    "#        'IT', 'AU', 'ID', 'IR', 'TR', 'TW', 'PL', 'MX']:\n",
    "#         results = np.array(estimate(top30ins, top20ins, country))\n",
    "#         draw(results, country)"
   ]
  }
 ],
 "metadata": {
  "kernelspec": {
   "display_name": "ML",
   "language": "python",
   "name": "python3"
  },
  "language_info": {
   "codemirror_mode": {
    "name": "ipython",
    "version": 3
   },
   "file_extension": ".py",
   "mimetype": "text/x-python",
   "name": "python",
   "nbconvert_exporter": "python",
   "pygments_lexer": "ipython3",
   "version": "3.9.13"
  },
  "orig_nbformat": 4,
  "vscode": {
   "interpreter": {
    "hash": "d55d083706a9c020f114bf1c514291b6a16f7df9c2c6a6da9b89d58e3afcb641"
   }
  }
 },
 "nbformat": 4,
 "nbformat_minor": 2
}
